{
 "cells": [
  {
   "cell_type": "markdown",
   "metadata": {},
   "source": [
    "# Preprocesamiento de Datos para Detección de Fraude en Tarjetas de Crédito\n",
    "\n",
    "Este notebook tiene como objetivo realizar el preprocesamiento de los datos necesarios para entrenar modelos de detección de fraude en tarjetas de crédito. A continuación, se describen los pasos realizados en el notebook.\n",
    "\n",
    "## Importar Librerías y Funciones\n",
    "\n",
    "Primero, importamos las librerías necesarias y las funciones definidas en el archivo `data_prep.py` que se encuentra en la carpeta `src`."
   ]
  },
  {
   "cell_type": "code",
   "execution_count": 1,
   "metadata": {},
   "outputs": [],
   "source": [
    "import sys\n",
    "sys.path.append('../src')\n",
    "\n",
    "from data_prep import prepare_data, save_processed_data"
   ]
  },
  {
   "cell_type": "markdown",
   "metadata": {},
   "source": [
    "## Ruta al Archivo de Datos\n",
    "\n",
    "Definimos la ruta al archivo de datos en formato CSV que contiene las transacciones de tarjetas de crédito."
   ]
  },
  {
   "cell_type": "code",
   "execution_count": 2,
   "metadata": {},
   "outputs": [],
   "source": [
    "\n",
    "# Ruta al archivo de datos\n",
    "data_path = \"../data/raw/creditcard.csv\""
   ]
  },
  {
   "cell_type": "markdown",
   "metadata": {},
   "source": [
    "## Preparar los Datos\n",
    "\n",
    "**Utilizamos la función `prepare_data` para cargar y preprocesar los datos. Esta función realiza las siguientes tareas:**\n",
    "\n",
    "- Carga el dataset desde el archivo CSV.\n",
    "- Selecciona las variables más relevantes según el análisis de importancia de características.\n",
    "- Aplica transformaciones a las variables necesarias (escalado y logaritmo).\n",
    "- Divide los datos en conjuntos de entrenamiento y prueba.\n",
    "- Aplica SMOTE para balancear las clases en el conjunto de entrenamiento."
   ]
  },
  {
   "cell_type": "code",
   "execution_count": 3,
   "metadata": {},
   "outputs": [],
   "source": [
    "# Preparar los datos\n",
    "X_train, X_test, y_train, y_test = prepare_data(data_path)"
   ]
  },
  {
   "cell_type": "markdown",
   "metadata": {},
   "source": [
    "## Guardar los Datos Procesados\n",
    "\n",
    "**Utilizamos la función `save_processed_data` para guardar los datos procesados en archivos CSV en la carpeta processed.**"
   ]
  },
  {
   "cell_type": "code",
   "execution_count": 4,
   "metadata": {},
   "outputs": [
    {
     "name": "stdout",
     "output_type": "stream",
     "text": [
      "✔️ Datos procesados guardados en data/processed/\n"
     ]
    }
   ],
   "source": [
    "# Guardar los datos procesados\n",
    "save_processed_data(X_train, X_test, y_train, y_test)"
   ]
  },
  {
   "cell_type": "markdown",
   "metadata": {},
   "source": [
    "## Verificar las Formas de los Conjuntos de Datos\n",
    "\n",
    "Finalmente, imprimimos las formas de los conjuntos de datos de entrenamiento y prueba para verificar que el preprocesamiento se ha realizado correctamente."
   ]
  },
  {
   "cell_type": "code",
   "execution_count": 5,
   "metadata": {},
   "outputs": [
    {
     "name": "stdout",
     "output_type": "stream",
     "text": [
      "✔️ Train shape: (454902, 11), Test shape: (56962, 11)\n"
     ]
    }
   ],
   "source": [
    "print(f\"✔️ Train shape: {X_train.shape}, Test shape: {X_test.shape}\")"
   ]
  }
 ],
 "metadata": {
  "kernelspec": {
   "display_name": "Python 3",
   "language": "python",
   "name": "python3"
  },
  "language_info": {
   "codemirror_mode": {
    "name": "ipython",
    "version": 3
   },
   "file_extension": ".py",
   "mimetype": "text/x-python",
   "name": "python",
   "nbconvert_exporter": "python",
   "pygments_lexer": "ipython3",
   "version": "3.12.9"
  }
 },
 "nbformat": 4,
 "nbformat_minor": 2
}
